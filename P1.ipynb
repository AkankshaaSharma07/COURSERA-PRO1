{
  "metadata": {
    "kernelspec": {
      "name": "python",
      "display_name": "Python (Pyodide)",
      "language": "python"
    },
    "language_info": {
      "codemirror_mode": {
        "name": "python",
        "version": 3
      },
      "file_extension": ".py",
      "mimetype": "text/x-python",
      "name": "python",
      "nbconvert_exporter": "python",
      "pygments_lexer": "ipython3",
      "version": "3.8"
    }
  },
  "nbformat_minor": 4,
  "nbformat": 4,
  "cells": [
    {
      "cell_type": "markdown",
      "source": "# COURSERA EXAMPLE",
      "metadata": {}
    },
    {
      "cell_type": "markdown",
      "source": "# HELLO EVERYONE I AM AKANKSHA SHARMA A IBM DATA SCIENCE STUDENT IN COURSERA",
      "metadata": {}
    },
    {
      "cell_type": "markdown",
      "source": "# DATA SCIENCE LANGUAGES ARE:\n#### PYTHON\n#### R\n#### SQL\n#### JAVA\n#### SCALA\n#### JULIA",
      "metadata": {}
    },
    {
      "cell_type": "markdown",
      "source": "# DATA SCINECE LIBRARIES ARE\n#### NUMPY\n#### PANDAS\n#### MATPLOTLIB\n#### SCIKIT-LEARN\n#### KERAS\n#### TENSORFLOW",
      "metadata": {}
    },
    {
      "cell_type": "markdown",
      "source": "# DATA SCIENCE TOOLS ARE\n#### JUPYTER NOTEBOOK\n#### APACHE SPARK\n#### TENSORFLOW\n#### APACHE HADOOP\n#### TABLEAU",
      "metadata": {}
    },
    {
      "cell_type": "markdown",
      "source": "# Introduction to Arithmetic Expressions\n\nArithmetic expressions are combinations of numbers, operators, and sometimes parentheses that represent a value. They are used in mathematics to perform calculations and in programming to execute mathematical operations. Here are a few examples of arithmetic expressions:\n\n1. *Addition*: 3 + 5 evaluates to 8.\n2. *Subtraction*: 10 - 4 evaluates to 6.\n3. *Multiplication*: 6 * 7 evaluates to 42.\n4. *Division*: 20 / 4 evaluates to 5.\n5. *Exponentiation*: 2^3 evaluates to 8.\n6. *Parentheses*: (2 + 3) * 4 evaluates to 20 because the expression inside the parentheses is calculated first.\n\n",
      "metadata": {}
    },
    {
      "cell_type": "markdown",
      "source": "# ADDITION AND MULTIPLICATION OF TWO NUMBERS",
      "metadata": {}
    },
    {
      "cell_type": "code",
      "source": "a=5\nb=5\nsum=a+b #addition\n\nx=5\ny=5\nmul=x*y   #multiplication\n\nprint(f\"sum of {a} and {b} is : {sum}\")\nprint(f\"multiplication of {x} and {y} is : {mul}\")",
      "metadata": {
        "trusted": true
      },
      "outputs": [
        {
          "name": "stdout",
          "text": "sum of 5 and 5 is : 10\nmultiplication of 5 and 5 is : 25\n",
          "output_type": "stream"
        }
      ],
      "execution_count": 2
    },
    {
      "cell_type": "markdown",
      "source": "# Convert minutes to hours",
      "metadata": {}
    },
    {
      "cell_type": "code",
      "source": "# Given number of minutes\nminutes = 120\n\n# Conversion factor\nminutes_in_an_hour = 60\n\n# Converting minutes to hours\nhours = minutes / minutes_in_an_hour\n\n# Displaying the result\nprint(f\"{minutes} minutes is equal to {hours} hours\")",
      "metadata": {
        "trusted": true
      },
      "outputs": [
        {
          "name": "stdout",
          "text": "120 minutes is equal to 2.0 hours\n",
          "output_type": "stream"
        }
      ],
      "execution_count": 3
    },
    {
      "cell_type": "markdown",
      "source": "# OBJECTIVES\n1. CREATED A TITLE OF NOTEBOOK\n2. CREATED A MARKDOWN CELL FOR INTRODUCTION\n3. CREATED A MARKDOWN CELL TO LIST DATA SCIENCE LANGUAGES\n4. CREATED A MARKDOWN CELL TO LIST DATA SCIENCE LIBRARIES\n5. CREATED A MARKDOWN CELL TO LIST DATA SCIENCE TOOLS\n6. CREATED A MARKDOWN CELL INTRODUCING ARITHMETIC EXPRESSION EXAMPLE\n7. WRITTEN A CODE TO MULTIPLY AND ADD NUMBERS\n8. WRITTEN A CODE TO CONVERT MINUTES INTO HOURS",
      "metadata": {}
    },
    {
      "cell_type": "markdown",
      "source": "# AUTHOR NAME\n# AKANKSHA SHARMA",
      "metadata": {}
    },
    {
      "cell_type": "code",
      "source": "",
      "metadata": {
        "trusted": true
      },
      "outputs": [],
      "execution_count": null
    }
  ]
}